{
 "cells": [
  {
   "cell_type": "code",
   "execution_count": 25,
   "metadata": {},
   "outputs": [],
   "source": [
    "import requests\n",
    "import pandas as pd\n",
    "from bs4 import BeautifulSoup\n",
    "import time\n",
    "import sqlite3 as sq"
   ]
  },
  {
   "cell_type": "code",
   "execution_count": 26,
   "metadata": {},
   "outputs": [
    {
     "name": "stdout",
     "output_type": "stream",
     "text": [
      "Number of unique tickers: 8970\n"
     ]
    }
   ],
   "source": [
    "tickers_csv = pd.read_excel('Copy of NYSE_Stocks.xlsx')\n",
    "tickers_list= tickers_csv['Symbol'].tolist()\n",
    "\n",
    "ticker_count = len(tickers_list)\n",
    "print(f\"Number of unique tickers: {ticker_count}\")"
   ]
  },
  {
   "cell_type": "code",
   "execution_count": 27,
   "metadata": {},
   "outputs": [],
   "source": [
    "def extract_main_data(html_content, ticker):\n",
    "    try:\n",
    "        soup = BeautifulSoup(html_content, 'html.parser')\n",
    "        \n",
    "        # Extract Market Cap\n",
    "        market_cap_tag = soup.find(\"td\", {\"data-test\": \"MARKET_CAP-value\"})\n",
    "        market_cap = market_cap_tag.text if market_cap_tag else \"N/A\"\n",
    "        \n",
    "        # Extract Earnings Date\n",
    "        earnings_date_tag = soup.find(\"td\", {\"data-test\": \"EARNINGS_DATE-value\"})\n",
    "        if earnings_date_tag and \"-\" in earnings_date_tag.text:\n",
    "            earnings_date_min, earnings_date_max = map(str.strip, earnings_date_tag.text.split(\"-\"))\n",
    "        elif earnings_date_tag:\n",
    "            earnings_date_min, earnings_date_max = earnings_date_tag.text, earnings_date_tag.text\n",
    "        else:\n",
    "            earnings_date_min, earnings_date_max = \"N/A\", \"N/A\"\n",
    "        \n",
    "        data = {\n",
    "            'Ticker': [ticker],\n",
    "            'Market Cap': [market_cap],\n",
    "            'Earnings Date Min': [earnings_date_min],\n",
    "            'Earnings Date Max': [earnings_date_max]\n",
    "        }\n",
    "        \n",
    "        df = pd.DataFrame(data)\n",
    "        return df\n",
    "    except Exception as e:\n",
    "        print(f\"Error extracting data for {ticker}. Error: {e}\")\n",
    "        return pd.DataFrame(columns=['Ticker', 'Market Cap', 'Earnings Date Min', 'Earnings Date Max'])\n",
    "\n",
    "def get_main_data_for_tickers(ticker_list, sleep_duration=5): \n",
    "    headers = {\n",
    "        'User-Agent': 'Mozilla/5.0 (Windows NT 10.0; Win64; x64) AppleWebKit/537.36 (KHTML, like Gecko) Chrome/91.0.4472.124 Safari/537.36'\n",
    "    }\n",
    "    base_url = 'https://finance.yahoo.com/quote/{}?p={}'\n",
    "    \n",
    "    all_data = pd.DataFrame()\n",
    "    \n",
    "    for ticker in ticker_list:\n",
    "        url = base_url.format(ticker, ticker)\n",
    "        response = requests.get(url, headers=headers)\n",
    "        df = extract_main_data(response.text, ticker)\n",
    "        all_data = pd.concat([all_data, df], ignore_index=True)\n",
    "        \n",
    "        time.sleep(sleep_duration)\n",
    "    \n",
    "    return all_data"
   ]
  },
  {
   "cell_type": "code",
   "execution_count": 28,
   "metadata": {},
   "outputs": [],
   "source": [
    "df = get_main_data_for_tickers(tickers_list)\n",
    "df\n"
   ]
  },
  {
   "cell_type": "code",
   "execution_count": null,
   "metadata": {},
   "outputs": [],
   "source": [
    "# Connect to SQLite database (will be created if doesn't exist)\n",
    "conn = sq.connect('main_data.db')\n",
    "\n",
    "# Insert data into a table called \"stock_data\"\n",
    "df.to_sql('main_data', conn, if_exists='replace', index=False)\n",
    "\n",
    "# Close the database connection\n",
    "conn.close()"
   ]
  }
 ],
 "metadata": {
  "kernelspec": {
   "display_name": ".trading",
   "language": "python",
   "name": "python3"
  },
  "language_info": {
   "codemirror_mode": {
    "name": "ipython",
    "version": 3
   },
   "file_extension": ".py",
   "mimetype": "text/x-python",
   "name": "python",
   "nbconvert_exporter": "python",
   "pygments_lexer": "ipython3",
   "version": "3.11.3"
  },
  "orig_nbformat": 4
 },
 "nbformat": 4,
 "nbformat_minor": 2
}
